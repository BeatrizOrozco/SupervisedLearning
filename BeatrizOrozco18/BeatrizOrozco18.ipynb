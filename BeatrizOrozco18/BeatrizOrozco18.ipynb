{
 "cells": [
  {
   "cell_type": "code",
   "execution_count": 26,
   "metadata": {},
   "outputs": [],
   "source": [
    "import numpy as np\n",
    "import pandas as pd\n",
    "import matplotlib.pyplot as plt\n",
    "import scipy as sci\n",
    "%matplotlib inline\n",
    "from sklearn import linear_model\n",
    "from sklearn.datasets import load_iris\n",
    "from sklearn.linear_model import LogisticRegression\n",
    "from sklearn.model_selection import train_test_split"
   ]
  },
  {
   "cell_type": "code",
   "execution_count": 27,
   "metadata": {},
   "outputs": [],
   "source": [
    "data = pd.read_csv('Default.csv',usecols=['default', 'student', 'balance', 'income'])"
   ]
  },
  {
   "cell_type": "code",
   "execution_count": 28,
   "metadata": {},
   "outputs": [],
   "source": [
    "default = list(data['default'])\n",
    "stud = list(data['student'])\n",
    "income = list(data['income'])\n",
    "balance = list(data['balance'])\n",
    "student=[]\n",
    "for i in range(len(stud)):\n",
    "    if stud[i]=='Yes':\n",
    "        student.append(1)\n",
    "    if stud[i]=='No':\n",
    "        student.append(0)"
   ]
  },
  {
   "cell_type": "code",
   "execution_count": 29,
   "metadata": {},
   "outputs": [],
   "source": [
    "from sklearn.discriminant_analysis import LinearDiscriminantAnalysis"
   ]
  },
  {
   "cell_type": "code",
   "execution_count": 30,
   "metadata": {},
   "outputs": [],
   "source": [
    "X=(np.array([student,income,balance])).T\n",
    "y=default"
   ]
  },
  {
   "cell_type": "code",
   "execution_count": 31,
   "metadata": {},
   "outputs": [],
   "source": [
    "threshold=np.linspace(0.01, 0.49, num=100)"
   ]
  },
  {
   "cell_type": "code",
   "execution_count": 38,
   "metadata": {},
   "outputs": [],
   "source": [
    "fn_rate=[]\n",
    "fp_rate=[]\n",
    "for i in range(len(threshold)):\n",
    "    clf = LinearDiscriminantAnalysis(tol=threshold[i])\n",
    "    clf.fit(X, y)\n",
    "    predict=clf.predict(X)\n",
    "    yn=0\n",
    "    yy=0\n",
    "    ny=0\n",
    "    nn=0\n",
    "    for j in range(len(y)):\n",
    "        if y[j]=='Yes' and predict[j]=='No':\n",
    "            yn+=1\n",
    "        if y[j]=='Yes' and predict[j]=='Yes':\n",
    "            yy+=1\n",
    "        if y[j]=='No' and predict[j]=='No':\n",
    "            nn+=1\n",
    "        if y[j]=='No' and predict[j]=='Yes':\n",
    "            ny+=1\n",
    "    fn=yn/(yn+yy)\n",
    "    fp=ny/(ny+nn)\n",
    "    fn_rate.append(fn)\n",
    "    fp_rate.append(fp)   \n",
    "    "
   ]
  },
  {
   "cell_type": "code",
   "execution_count": 40,
   "metadata": {},
   "outputs": [
    {
     "data": {
      "text/plain": [
       "[<matplotlib.lines.Line2D at 0x28306d5d4e0>]"
      ]
     },
     "execution_count": 40,
     "metadata": {},
     "output_type": "execute_result"
    },
    {
     "data": {
      "image/png": "[encoded data removed]",
      "text/plain": [
       "<Figure size 432x288 with 1 Axes>"
      ]
     },
     "metadata": {},
     "output_type": "display_data"
    }
   ],
   "source": [
    "plt.plot(threshold,fp_rate)\n",
    "plt.plot(threshold,fn_rate)"
   ]
  },
  {
   "cell_type": "code",
   "execution_count": 80,
   "metadata": {},
   "outputs": [],
   "source": [
    "fn_rate=[]\n",
    "fp_rate=[]\n",
    "clf = LinearDiscriminantAnalysis(tol=0.1)\n",
    "clf.fit(X, y)\n",
    "predict = clf.predict(X)\n",
    "yn=0\n",
    "yy=0\n",
    "ny=0\n",
    "nn=0\n",
    "for j in range(len(y)):\n",
    "    if y[j]=='Yes' and predict[j]=='No':\n",
    "        yn+=1\n",
    "    if y[j]=='Yes' and predict[j]=='Yes':\n",
    "        yy+=1\n",
    "    if y[j]=='No' and predict[j]=='No':\n",
    "        nn+=1\n",
    "    if y[j]=='No' and predict[j]=='Yes':\n",
    "        ny+=1\n",
    "fn=yn/(yn+yy)\n",
    "fp=ny/(ny+nn)\n",
    "fn_rate.append(fn)\n",
    "fp_rate.append(fp)"
   ]
  },
  {
   "cell_type": "code",
   "execution_count": 81,
   "metadata": {},
   "outputs": [
    {
     "data": {
      "text/plain": [
       "0.7627627627627628"
      ]
     },
     "execution_count": 81,
     "metadata": {},
     "output_type": "execute_result"
    }
   ],
   "source": [
    "fn"
   ]
  },
  {
   "cell_type": "code",
   "execution_count": 82,
   "metadata": {},
   "outputs": [
    {
     "data": {
      "text/plain": [
       "0.0022757835936691837"
      ]
     },
     "execution_count": 82,
     "metadata": {},
     "output_type": "execute_result"
    }
   ],
   "source": [
    "fp"
   ]
  },
  {
   "cell_type": "code",
   "execution_count": 83,
   "metadata": {},
   "outputs": [],
   "source": [
    "data = pd.read_csv('Default.csv',usecols=['default', 'student', 'balance', 'income'])\n",
    "default = list(data['default'])\n",
    "stud = list(data['student'])\n",
    "income = list(data['income'])\n",
    "balance = list(data['balance'])\n",
    "student=[]\n",
    "for i in range(len(stud)):\n",
    "    if stud[i]=='Yes':\n",
    "        student.append(1)\n",
    "    if stud[i]=='No':\n",
    "        student.append(0)\n",
    "X=(np.array([student,income,balance])).T\n",
    "y=default"
   ]
  },
  {
   "cell_type": "code",
   "execution_count": 84,
   "metadata": {},
   "outputs": [],
   "source": [
    "clf = LinearDiscriminantAnalysis(tol=0.2)\n",
    "clf.fit(X, y)\n",
    "predict = clf.predict(X)\n",
    "yn=0\n",
    "yy=0\n",
    "ny=0\n",
    "nn=0\n",
    "for j in range(len(y)):\n",
    "    if y[j]=='Yes' and predict[j]=='No':\n",
    "        yn+=1\n",
    "    if y[j]=='Yes' and predict[j]=='Yes':\n",
    "        yy+=1\n",
    "    if y[j]=='No' and predict[j]=='No':\n",
    "        nn+=1\n",
    "    if y[j]=='No' and predict[j]=='Yes':\n",
    "        ny+=1\n",
    "fn=yn/(yn+yy)\n",
    "fp=ny/(ny+nn)\n",
    "fn_rate.append(fn)\n",
    "fp_rate.append(fp)"
   ]
  },
  {
   "cell_type": "code",
   "execution_count": 85,
   "metadata": {},
   "outputs": [
    {
     "data": {
      "text/plain": [
       "0.7627627627627628"
      ]
     },
     "execution_count": 85,
     "metadata": {},
     "output_type": "execute_result"
    }
   ],
   "source": [
    "fn"
   ]
  },
  {
   "cell_type": "code",
   "execution_count": 86,
   "metadata": {},
   "outputs": [
    {
     "data": {
      "text/plain": [
       "0.0022757835936691837"
      ]
     },
     "execution_count": 86,
     "metadata": {},
     "output_type": "execute_result"
    }
   ],
   "source": [
    "fp"
   ]
  },
  {
   "cell_type": "code",
   "execution_count": 74,
   "metadata": {},
   "outputs": [],
   "source": [
    "clf = LinearDiscriminantAnalysis(tol=0.3)\n",
    "clf.fit(X, y)\n",
    "predict = clf.predict(X)\n",
    "yn=0\n",
    "yy=0\n",
    "ny=0\n",
    "nn=0\n",
    "for j in range(len(y)):\n",
    "    if y[j]=='Yes' and predict[j]=='No':\n",
    "        yn+=1\n",
    "    if y[j]=='Yes' and predict[j]=='Yes':\n",
    "        yy+=1\n",
    "    if y[j]=='No' and predict[j]=='No':\n",
    "        nn+=1\n",
    "    if y[j]=='No' and predict[j]=='Yes':\n",
    "        ny+=1\n",
    "fn=yn/(yn+yy)\n",
    "fp=ny/(ny+nn)\n",
    "fn_rate.append(fn)\n",
    "fp_rate.append(fp)"
   ]
  },
  {
   "cell_type": "code",
   "execution_count": 75,
   "metadata": {},
   "outputs": [],
   "source": [
    "clf = LinearDiscriminantAnalysis(tol=0.4)\n",
    "clf.fit(X, y)\n",
    "predict = clf.predict(X)\n",
    "yn=0\n",
    "yy=0\n",
    "ny=0\n",
    "nn=0\n",
    "for j in range(len(y)):\n",
    "    if y[j]=='Yes' and predict[j]=='No':\n",
    "        yn+=1\n",
    "    if y[j]=='Yes' and predict[j]=='Yes':\n",
    "        yy+=1\n",
    "    if y[j]=='No' and predict[j]=='No':\n",
    "        nn+=1\n",
    "    if y[j]=='No' and predict[j]=='Yes':\n",
    "        ny+=1\n",
    "fn=yn/(yn+yy)\n",
    "fp=ny/(ny+nn)\n",
    "fn_rate.append(fn)\n",
    "fp_rate.append(fp)"
   ]
  },
  {
   "cell_type": "code",
   "execution_count": 76,
   "metadata": {},
   "outputs": [],
   "source": [
    "clf = LinearDiscriminantAnalysis(tol=0.49)\n",
    "clf.fit(X, y)\n",
    "predict = clf.predict(X)\n",
    "yn=0\n",
    "yy=0\n",
    "ny=0\n",
    "nn=0\n",
    "for j in range(len(y)):\n",
    "    if y[j]=='Yes' and predict[j]=='No':\n",
    "        yn+=1\n",
    "    if y[j]=='Yes' and predict[j]=='Yes':\n",
    "        yy+=1\n",
    "    if y[j]=='No' and predict[j]=='No':\n",
    "        nn+=1\n",
    "    if y[j]=='No' and predict[j]=='Yes':\n",
    "        ny+=1\n",
    "fn=yn/(yn+yy)\n",
    "fp=ny/(ny+nn)\n",
    "fn_rate.append(fn)\n",
    "fp_rate.append(fp)"
   ]
  },
  {
   "cell_type": "code",
   "execution_count": 77,
   "metadata": {},
   "outputs": [],
   "source": [
    "t=[0.1,0.2,0.3,0.4,0.49]"
   ]
  },
  {
   "cell_type": "code",
   "execution_count": 79,
   "metadata": {},
   "outputs": [
    {
     "data": {
      "text/plain": [
       "<matplotlib.collections.PathCollection at 0x28307639e48>"
      ]
     },
     "execution_count": 79,
     "metadata": {},
     "output_type": "execute_result"
    },
    {
     "data": {
      "image/png": "[encoded data removed]",
      "text/plain": [
       "<Figure size 432x288 with 1 Axes>"
      ]
     },
     "metadata": {},
     "output_type": "display_data"
    }
   ],
   "source": [
    "plt.scatter(t,fp_rate)\n",
    "plt.scatter(t,fn_rate)"
   ]
  },
  {
   "cell_type": "code",
   "execution_count": 298,
   "metadata": {},
   "outputs": [
    {
     "data": {
      "text/plain": [
       "[<matplotlib.lines.Line2D at 0x21081c49780>]"
      ]
     },
     "execution_count": 298,
     "metadata": {},
     "output_type": "execute_result"
    },
    {
     "data": {
      "image/png": "[encoded data removed]",
      "text/plain": [
       "<Figure size 432x288 with 1 Axes>"
      ]
     },
     "metadata": {},
     "output_type": "display_data"
    }
   ],
   "source": [
    "plt.plot(fp_rate,fn_rate)"
   ]
  },
  {
   "cell_type": "code",
   "execution_count": null,
   "metadata": {},
   "outputs": [],
   "source": []
  }
 ],
 "metadata": {
  "kernelspec": {
   "display_name": "Python 3",
   "language": "python",
   "name": "python3"
  },
  "language_info": {
   "codemirror_mode": {
    "name": "ipython",
    "version": 3
   },
   "file_extension": ".py",
   "mimetype": "text/x-python",
   "name": "python",
   "nbconvert_exporter": "python",
   "pygments_lexer": "ipython3",
   "version": "3.6.5"
  }
 },
 "nbformat": 4,
 "nbformat_minor": 2
}
