{
 "cells": [
  {
   "cell_type": "code",
   "execution_count": 2,
   "metadata": {},
   "outputs": [],
   "source": [
    "import numpy as np\n",
    "import pandas as pd\n",
    "import matplotlib.pyplot as plt\n",
    "import scipy as sci\n",
    "%matplotlib inline\n",
    "from sklearn import linear_model\n",
    "from sklearn.datasets import load_iris\n",
    "from sklearn.linear_model import LogisticRegression\n",
    "from sklearn.model_selection import train_test_split\n",
    "from sklearn.discriminant_analysis import LinearDiscriminantAnalysis"
   ]
  },
  {
   "cell_type": "code",
   "execution_count": 3,
   "metadata": {},
   "outputs": [],
   "source": [
    "data = pd.read_csv('Default.csv',usecols=['default', 'student', 'balance', 'income'])"
   ]
  },
  {
   "cell_type": "code",
   "execution_count": 4,
   "metadata": {},
   "outputs": [],
   "source": [
    "deft = list(data['default'])\n",
    "stud = list(data['student'])\n",
    "income = list(data['income'])\n",
    "balance = list(data['balance'])\n",
    "student=[]\n",
    "default=[]\n",
    "for i in range(len(stud)):\n",
    "    if stud[i]=='Yes':\n",
    "        student.append(1)\n",
    "    if stud[i]=='No':\n",
    "        student.append(0)\n",
    "for i in range(len(deft)):\n",
    "    if deft[i]=='Yes':\n",
    "        default.append(1)\n",
    "    if deft[i]=='No':\n",
    "        default.append(0)"
   ]
  },
  {
   "cell_type": "code",
   "execution_count": 5,
   "metadata": {},
   "outputs": [],
   "source": [
    "X=(np.array([student,income,balance])).T\n",
    "y=np.array(default)"
   ]
  },
  {
   "cell_type": "code",
   "execution_count": 6,
   "metadata": {},
   "outputs": [],
   "source": [
    "clf = LinearDiscriminantAnalysis()\n",
    "clf.fit(X, y)\n",
    "predict =clf.predict(X)"
   ]
  },
  {
   "cell_type": "code",
   "execution_count": 7,
   "metadata": {},
   "outputs": [],
   "source": [
    "vp=(y==1)&(predict==1)\n",
    "yy=np.count_nonzero(vp)\n",
    "fn=(y==0)&(predict==0)\n",
    "nn=np.count_nonzero(fn)\n",
    "fp=(y==0)&(predict==1)\n",
    "yn=np.count_nonzero(fp)\n",
    "vn=(y==1)&(predict==1)\n",
    "ny=np.count_nonzero(vn)\n"
   ]
  },
  {
   "cell_type": "code",
   "execution_count": 8,
   "metadata": {},
   "outputs": [
    {
     "data": {
      "text/plain": [
       "(79, 9645, 22, 79)"
      ]
     },
     "execution_count": 8,
     "metadata": {},
     "output_type": "execute_result"
    }
   ],
   "source": [
    "yy,nn,yn,ny"
   ]
  },
  {
   "cell_type": "code",
   "execution_count": 9,
   "metadata": {},
   "outputs": [],
   "source": [
    "threshold=np.linspace(0.01, 0.49, num=100)"
   ]
  },
  {
   "cell_type": "code",
   "execution_count": 10,
   "metadata": {},
   "outputs": [],
   "source": [
    "predict_proba =clf.predict_proba(X)[:,1]\n",
    "fn_rate=[]\n",
    "fp_rate=[]\n",
    "for i in range(len(threshold)):\n",
    "    for j in range(len(predict_proba)):\n",
    "        if predict_proba[j]>=threshold[i]:\n",
    "            vp=(y==1)&(predict==1)\n",
    "            yy=np.count_nonzero(vp)\n",
    "            fn=(y==0)&(predict==0)\n",
    "            nn=np.count_nonzero(fn)\n",
    "            fp=(y==0)&(predict==1)\n",
    "            yn=np.count_nonzero(fp)\n",
    "            vn=(y==1)&(predict==1)\n",
    "            ny=np.count_nonzero(vn)\n",
    "    fnr=yn/(yn+yy)\n",
    "    fpr=ny/(ny+nn)\n",
    "    fn_rate.append(fnr)\n",
    "    fp_rate.append(fpr)"
   ]
  },
  {
   "cell_type": "code",
   "execution_count": 11,
   "metadata": {},
   "outputs": [
    {
     "data": {
      "text/plain": [
       "[<matplotlib.lines.Line2D at 0x223f4843c88>]"
      ]
     },
     "execution_count": 11,
     "metadata": {},
     "output_type": "execute_result"
    },
    {
     "data": {
      "image/png": "[encoded data removed]",
      "text/plain": [
       "<Figure size 432x288 with 1 Axes>"
      ]
     },
     "metadata": {},
     "output_type": "display_data"
    }
   ],
   "source": [
    "plt.plot(threshold,fn_rate)"
   ]
  },
  {
   "cell_type": "markdown",
   "metadata": {},
   "source": [
    "precision_recall"
   ]
  },
  {
   "cell_type": "code",
   "execution_count": 12,
   "metadata": {},
   "outputs": [],
   "source": [
    "data = pd.read_csv('Default.csv',usecols=['default', 'student', 'balance', 'income'])\n",
    "deft = list(data['default'])\n",
    "stud = list(data['student'])\n",
    "income = list(data['income'])\n",
    "balance = list(data['balance'])\n",
    "student=[]\n",
    "default=[]\n",
    "for i in range(len(stud)):\n",
    "    if stud[i]=='Yes':\n",
    "        student.append(1)\n",
    "    if stud[i]=='No':\n",
    "        student.append(0)\n",
    "for i in range(len(deft)):\n",
    "    if deft[i]=='Yes':\n",
    "        default.append(1)\n",
    "    if deft[i]=='No':\n",
    "        default.append(0)\n"
   ]
  },
  {
   "cell_type": "code",
   "execution_count": 20,
   "metadata": {},
   "outputs": [],
   "source": [
    "X=(np.array([student,income,balance])).T\n",
    "y=np.array(default)"
   ]
  },
  {
   "cell_type": "code",
   "execution_count": 22,
   "metadata": {},
   "outputs": [],
   "source": [
    "clf = linear_model.LogisticRegression()\n",
    "clf.fit(X, y)\n",
    "predict =clf.predict(X)"
   ]
  },
  {
   "cell_type": "code",
   "execution_count": null,
   "metadata": {},
   "outputs": [],
   "source": [
    "tp=(y==1)&(predict==1)\n",
    "yy=np.count_nonzero(tp)\n",
    "fp=(y==0)&(predict==1)\n",
    "ny=np.count_nonzero(fp)\n",
    "fn=(y==1)&(predict==0)e\n",
    "yn=np.count_nonzero(fn)\n",
    "tn=(y==0)&(predict==0)\n",
    "nn=np.count_nonzero(tn)\n",
    "default"
   ]
  },
  {
   "cell_type": "code",
   "execution_count": null,
   "metadata": {},
   "outputs": [],
   "source": [
    "plt.plot(recall,precision)"
   ]
  },
  {
   "cell_type": "code",
   "execution_count": null,
   "metadata": {},
   "outputs": [],
   "source": []
  }
 ],
 "metadata": {
  "kernelspec": {
   "display_name": "Python 3",
   "language": "python",
   "name": "python3"
  },
  "language_info": {
   "codemirror_mode": {
    "name": "ipython",
    "version": 3
   },
   "file_extension": ".py",
   "mimetype": "text/x-python",
   "name": "python",
   "nbconvert_exporter": "python",
   "pygments_lexer": "ipython3",
   "version": "3.6.5"
  }
 },
 "nbformat": 4,
 "nbformat_minor": 2
}
