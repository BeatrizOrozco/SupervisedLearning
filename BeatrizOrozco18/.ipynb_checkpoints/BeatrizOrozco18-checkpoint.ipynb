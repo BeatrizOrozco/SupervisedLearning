{
 "cells": [
  {
   "cell_type": "code",
   "execution_count": 323,
   "metadata": {},
   "outputs": [],
   "source": [
    "import numpy as np\n",
    "import pandas as pd\n",
    "import matplotlib.pyplot as plt\n",
    "import scipy as sci\n",
    "%matplotlib inline\n",
    "from sklearn import linear_model\n",
    "from sklearn.datasets import load_iris\n",
    "from sklearn.linear_model import LogisticRegression\n",
    "from sklearn.model_selection import train_test_split"
   ]
  },
  {
   "cell_type": "code",
   "execution_count": 324,
   "metadata": {},
   "outputs": [],
   "source": [
    "data = pd.read_csv('Default.csv',usecols=['default', 'student', 'balance', 'income'])"
   ]
  },
  {
   "cell_type": "code",
   "execution_count": 325,
   "metadata": {},
   "outputs": [],
   "source": [
    "default = list(data['default'])\n",
    "stud = list(data['student'])\n",
    "income = list(data['income'])\n",
    "balance = list(data['balance'])\n",
    "student=[]\n",
    "for i in range(len(stud)):\n",
    "    if stud[i]=='Yes':\n",
    "        student.append(1)\n",
    "    if stud[i]=='No':\n",
    "        student.append(0)"
   ]
  },
  {
   "cell_type": "code",
   "execution_count": 326,
   "metadata": {},
   "outputs": [],
   "source": [
    "from sklearn.discriminant_analysis import LinearDiscriminantAnalysis"
   ]
  },
  {
   "cell_type": "code",
   "execution_count": 327,
   "metadata": {},
   "outputs": [],
   "source": [
    "X=(np.array([student,income,balance])).T\n",
    "y=default"
   ]
  },
  {
   "cell_type": "code",
   "execution_count": 328,
   "metadata": {},
   "outputs": [],
   "source": [
    "threshold=np.linspace(0.01, 0.49, num=100)"
   ]
  },
  {
   "cell_type": "code",
   "execution_count": null,
   "metadata": {},
   "outputs": [],
   "source": [
    "err_rate=[]\n",
    "for i in range(len(threshold)):\n",
    "    clf = LinearDiscriminantAnalysis(tol=threshold[i])\n",
    "    clf.fit(X, y)\n",
    "    predict = clf.predict(X)\n",
    "    np=0\n",
    "    nn=0\n",
    "    for j in range(len(y)):\n",
    "        if y[j]=='No' and predict[j]=='No':\n",
    "            nn+=1\n",
    "        if y[j]=='No' and predict[j]=='Yes':\n",
    "            np+=1\n",
    "    error_rate=(nn+np)/(len(y))\n",
    "    err_rate.append(error_rate)    \n",
    "    "
   ]
  },
  {
   "cell_type": "code",
   "execution_count": 312,
   "metadata": {},
   "outputs": [],
   "source": [
    "fn_rate=[]\n",
    "fp_rate=[]\n",
    "clf = LinearDiscriminantAnalysis(tol=0.)\n",
    "clf.fit(X, y)\n",
    "predict = clf.predict(X)\n",
    "yn=0\n",
    "yy=0\n",
    "ny=0\n",
    "nn=0\n",
    "for j in range(len(y)):\n",
    "    if y[j]=='Yes' and predict[j]=='No':\n",
    "        yn+=1\n",
    "    if y[j]=='Yes' and predict[j]=='Yes':\n",
    "        yy+=1\n",
    "    if y[j]=='No' and predict[j]=='No':\n",
    "        nn+=1\n",
    "    if y[j]=='No' and predict[j]=='Yes':\n",
    "        ny+=1\n",
    "fn=yn/(yn+yy)\n",
    "fp=ny/(ny+nn)\n",
    "fn_rate.append(fn)\n",
    "fp_rate.append(fp)"
   ]
  },
  {
   "cell_type": "code",
   "execution_count": 313,
   "metadata": {},
   "outputs": [
    {
     "data": {
      "text/plain": [
       "0.7627627627627628"
      ]
     },
     "execution_count": 313,
     "metadata": {},
     "output_type": "execute_result"
    }
   ],
   "source": [
    "fn"
   ]
  },
  {
   "cell_type": "code",
   "execution_count": 314,
   "metadata": {},
   "outputs": [
    {
     "data": {
      "text/plain": [
       "0.0022757835936691837"
      ]
     },
     "execution_count": 314,
     "metadata": {},
     "output_type": "execute_result"
    }
   ],
   "source": [
    "fp"
   ]
  },
  {
   "cell_type": "code",
   "execution_count": 315,
   "metadata": {},
   "outputs": [],
   "source": [
    "clf = LinearDiscriminantAnalysis(tol=0.2)\n",
    "clf.fit(X, y)\n",
    "predict = clf.predict(X)\n",
    "yn=0\n",
    "yy=0\n",
    "ny=0\n",
    "nn=0\n",
    "for j in range(len(y)):\n",
    "    if y[j]=='Yes' and predict[j]=='No':\n",
    "        yn+=1\n",
    "    if y[j]=='Yes' and predict[j]=='Yes':\n",
    "        yy+=1\n",
    "    if y[j]=='No' and predict[j]=='No':\n",
    "        nn+=1\n",
    "    if y[j]=='No' and predict[j]=='Yes':\n",
    "        ny+=1\n",
    "fn=yn/(yn+yy)\n",
    "fp=ny/(ny+nn)\n",
    "fn_rate.append(fn)\n",
    "fp_rate.append(fp)"
   ]
  },
  {
   "cell_type": "code",
   "execution_count": 316,
   "metadata": {},
   "outputs": [
    {
     "data": {
      "text/plain": [
       "0.7627627627627628"
      ]
     },
     "execution_count": 316,
     "metadata": {},
     "output_type": "execute_result"
    }
   ],
   "source": [
    "fn"
   ]
  },
  {
   "cell_type": "code",
   "execution_count": 317,
   "metadata": {},
   "outputs": [
    {
     "data": {
      "text/plain": [
       "0.0022757835936691837"
      ]
     },
     "execution_count": 317,
     "metadata": {},
     "output_type": "execute_result"
    }
   ],
   "source": [
    "fp"
   ]
  },
  {
   "cell_type": "code",
   "execution_count": 318,
   "metadata": {},
   "outputs": [],
   "source": [
    "clf = LinearDiscriminantAnalysis(tol=0.3)\n",
    "clf.fit(X, y)\n",
    "predict = clf.predict(X)\n",
    "yn=0\n",
    "yy=0\n",
    "ny=0\n",
    "nn=0\n",
    "for j in range(len(y)):\n",
    "    if y[j]=='Yes' and predict[j]=='No':\n",
    "        yn+=1\n",
    "    if y[j]=='Yes' and predict[j]=='Yes':\n",
    "        yy+=1\n",
    "    if y[j]=='No' and predict[j]=='No':\n",
    "        nn+=1\n",
    "    if y[j]=='No' and predict[j]=='Yes':\n",
    "        ny+=1\n",
    "fn=yn/(yn+yy)\n",
    "fp=ny/(ny+nn)\n",
    "fn_rate.append(fn)\n",
    "fp_rate.append(fp)"
   ]
  },
  {
   "cell_type": "code",
   "execution_count": 319,
   "metadata": {},
   "outputs": [],
   "source": [
    "clf = LinearDiscriminantAnalysis(tol=0.4)\n",
    "clf.fit(X, y)\n",
    "predict = clf.predict(X)\n",
    "yn=0\n",
    "yy=0\n",
    "ny=0\n",
    "nn=0\n",
    "for j in range(len(y)):\n",
    "    if y[j]=='Yes' and predict[j]=='No':\n",
    "        yn+=1\n",
    "    if y[j]=='Yes' and predict[j]=='Yes':\n",
    "        yy+=1\n",
    "    if y[j]=='No' and predict[j]=='No':\n",
    "        nn+=1\n",
    "    if y[j]=='No' and predict[j]=='Yes':\n",
    "        ny+=1\n",
    "fn=yn/(yn+yy)\n",
    "fp=ny/(ny+nn)\n",
    "fn_rate.append(fn)\n",
    "fp_rate.append(fp)"
   ]
  },
  {
   "cell_type": "code",
   "execution_count": 320,
   "metadata": {},
   "outputs": [],
   "source": [
    "clf = LinearDiscriminantAnalysis(tol=0.49)\n",
    "clf.fit(X, y)\n",
    "predict = clf.predict(X)\n",
    "yn=0\n",
    "yy=0\n",
    "ny=0\n",
    "nn=0\n",
    "for j in range(len(y)):\n",
    "    if y[j]=='Yes' and predict[j]=='No':\n",
    "        yn+=1\n",
    "    if y[j]=='Yes' and predict[j]=='Yes':\n",
    "        yy+=1\n",
    "    if y[j]=='No' and predict[j]=='No':\n",
    "        nn+=1\n",
    "    if y[j]=='No' and predict[j]=='Yes':\n",
    "        ny+=1\n",
    "fn=yy/(ny+yy)\n",
    "fp=nn/(yn+nn)\n",
    "fn_rate.append(fn)\n",
    "fp_rate.append(fp)"
   ]
  },
  {
   "cell_type": "code",
   "execution_count": 321,
   "metadata": {},
   "outputs": [],
   "source": [
    "t=[0.1,0.2,0.3,0.4,0.49]"
   ]
  },
  {
   "cell_type": "code",
   "execution_count": 322,
   "metadata": {},
   "outputs": [
    {
     "data": {
      "text/plain": [
       "[<matplotlib.lines.Line2D at 0x21081ceb9b0>]"
      ]
     },
     "execution_count": 322,
     "metadata": {},
     "output_type": "execute_result"
    },
    {
     "data": {
      "image/png": "[encoded data removed]",
      "text/plain": [
       "<Figure size 432x288 with 1 Axes>"
      ]
     },
     "metadata": {},
     "output_type": "display_data"
    }
   ],
   "source": [
    "plt.plot(t,fp_rate)\n",
    "plt.plot(t,fn_rate)"
   ]
  },
  {
   "cell_type": "code",
   "execution_count": 298,
   "metadata": {},
   "outputs": [
    {
     "data": {
      "text/plain": [
       "[<matplotlib.lines.Line2D at 0x21081c49780>]"
      ]
     },
     "execution_count": 298,
     "metadata": {},
     "output_type": "execute_result"
    },
    {
     "data": {
      "image/png": "[encoded data removed]",
      "text/plain": [
       "<Figure size 432x288 with 1 Axes>"
      ]
     },
     "metadata": {},
     "output_type": "display_data"
    }
   ],
   "source": [
    "plt.plot(fp_rate,fn_rate)"
   ]
  },
  {
   "cell_type": "code",
   "execution_count": null,
   "metadata": {},
   "outputs": [],
   "source": []
  }
 ],
 "metadata": {
  "kernelspec": {
   "display_name": "Python 3",
   "language": "python",
   "name": "python3"
  },
  "language_info": {
   "codemirror_mode": {
    "name": "ipython",
    "version": 3
   },
   "file_extension": ".py",
   "mimetype": "text/x-python",
   "name": "python",
   "nbconvert_exporter": "python",
   "pygments_lexer": "ipython3",
   "version": "3.6.5"
  }
 },
 "nbformat": 4,
 "nbformat_minor": 2
}
