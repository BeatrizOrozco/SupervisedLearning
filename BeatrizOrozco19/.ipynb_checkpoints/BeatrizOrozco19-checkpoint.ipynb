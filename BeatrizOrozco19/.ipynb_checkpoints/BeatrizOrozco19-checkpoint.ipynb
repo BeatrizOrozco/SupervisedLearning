{
 "cells": [
  {
   "cell_type": "code",
   "execution_count": 76,
   "metadata": {},
   "outputs": [],
   "source": [
    "import numpy as np\n",
    "import pandas as pd\n",
    "import matplotlib.pyplot as plt\n",
    "import sklearn.linear_model\n",
    "import sklearn.model_selection\n",
    "import sklearn.preprocessing\n",
    "import scipy.integrate\n",
    "import sklearn.discriminant_analysis\n",
    "import itertools\n",
    "from sklearn.model_selection import KFold\n",
    "from sklearn.tree import DecisionTreeClassifier\n",
    "from sklearn import tree\n",
    "%matplotlib inline\n",
    "from sklearn.metrics import mean_squared_error\n",
    "from sklearn import datasets, linear_model\n",
    "from sklearn.model_selection import KFold"
   ]
  },
  {
   "cell_type": "markdown",
   "metadata": {},
   "source": [
    "## Parte 1 "
   ]
  },
  {
   "cell_type": "markdown",
   "metadata": {},
   "source": [
    "## a."
   ]
  },
  {
   "cell_type": "code",
   "execution_count": 77,
   "metadata": {},
   "outputs": [],
   "source": [
    "data=pd.read_csv('Hitters.csv')\n",
    "data= data.dropna()"
   ]
  },
  {
   "cell_type": "code",
   "execution_count": 78,
   "metadata": {},
   "outputs": [],
   "source": [
    "salary = np.array(data['Salary'])\n",
    "hits = np.array(data['Hits'])\n",
    "years = np.log(np.array(data['Years']))/1000"
   ]
  },
  {
   "cell_type": "code",
   "execution_count": 79,
   "metadata": {},
   "outputs": [],
   "source": [
    "x=(np.array([hits,years])).T\n",
    "y=np.array((np.log(salary)))"
   ]
  },
  {
   "cell_type": "code",
   "execution_count": 81,
   "metadata": {},
   "outputs": [],
   "source": [
    "x_train, x_test, y_train_, y_test = sklearn.model_selection.train_test_split(x,y, test_size=0.5)"
   ]
  },
  {
   "cell_type": "code",
   "execution_count": 82,
   "metadata": {},
   "outputs": [],
   "source": [
    "y_train=[]\n",
    "for i in range(len(y_train_)):\n",
    "    y_train.append(int(y_train_[i]))"
   ]
  },
  {
   "cell_type": "code",
   "execution_count": 83,
   "metadata": {},
   "outputs": [],
   "source": [
    "kf = KFold(n_splits=6)\n",
    "kf.get_n_splits(x)\n",
    "KFold(n_splits=6, random_state=None, shuffle=False)\n",
    "for train_index, test_index in kf.split(x):\n",
    "    x_train_cv, x_test_cv = x[train_index], x[test_index]\n",
    "    y_train_cv, y_test_cv = y[train_index], y[test_index]"
   ]
  },
  {
   "cell_type": "code",
   "execution_count": 84,
   "metadata": {},
   "outputs": [],
   "source": [
    "tree_size=np.linspace(1,10,10)\n",
    "mse_test_=[]\n",
    "mse_train_=[]\n",
    "mse_cv_=[]\n",
    "for i in range(len(tree_size)):\n",
    "    clf = tree.DecisionTreeClassifier(max_depth=tree_size[i])\n",
    "    clf=clf.fit(x_train,y_train)\n",
    "    predict_test=clf.predict(x_test)\n",
    "    predict_train=clf.predict(x_train)\n",
    "    predict_train_cv=clf.predict(x_train_cv)\n",
    "    mse_test = mean_squared_error(y_test, predict_test)\n",
    "    mse_test_.append(mse_test)\n",
    "    mse_train = mean_squared_error(y_train, predict_train)\n",
    "    mse_train_.append(mse_train)\n",
    "    mse_cv = mean_squared_error(y_train_cv, predict_train_cv)\n",
    "    mse_cv_.append(mse_cv)\n",
    "    \n",
    "    "
   ]
  },
  {
   "cell_type": "code",
   "execution_count": 99,
   "metadata": {},
   "outputs": [
    {
     "data": {
      "text/plain": [
       "<matplotlib.legend.Legend at 0x248d01ce9b0>"
      ]
     },
     "execution_count": 99,
     "metadata": {},
     "output_type": "execute_result"
    },
    {
     "data": {
      "image/png": "[encoded data removed]",
      "text/plain": [
       "<Figure size 432x288 with 1 Axes>"
      ]
     },
     "metadata": {},
     "output_type": "display_data"
    }
   ],
   "source": [
    "plt.scatter(tree_size,mse_train_,label='Training',color='black')\n",
    "plt.scatter(tree_size,mse_test_,label='Test',color='green')\n",
    "plt.scatter(tree_size,mse_cv_,label='Cross Validation',color='orange')\n",
    "plt.plot(tree_size,mse_cv_,color='orange')\n",
    "plt.plot(tree_size,mse_train_,color='black')\n",
    "plt.plot(tree_size,mse_test_,color='green')\n",
    "plt.legend()"
   ]
  },
  {
   "cell_type": "markdown",
   "metadata": {},
   "source": [
    "## b."
   ]
  },
  {
   "cell_type": "code",
   "execution_count": 231,
   "metadata": {},
   "outputs": [],
   "source": [
    "data=pd.read_csv('reprocessed.hungarian.data.csv',sep=' ')\n",
    "data= np.array(data.dropna())\n",
    "x=data[:,:12]\n",
    "y=data[:,13]"
   ]
  },
  {
   "cell_type": "code",
   "execution_count": 232,
   "metadata": {},
   "outputs": [],
   "source": [
    "x_train, x_test, y_train, y_test = sklearn.model_selection.train_test_split(x,y, test_size=0.5)"
   ]
  },
  {
   "cell_type": "code",
   "execution_count": 233,
   "metadata": {},
   "outputs": [],
   "source": [
    "kf = KFold(n_splits=6)\n",
    "kf.get_n_splits(x)\n",
    "KFold(n_splits=6, random_state=None, shuffle=False)\n",
    "for train_index, test_index in kf.split(x):\n",
    "    x_train_cv, x_test_cv = x[train_index], x[test_index]\n",
    "    y_train_cv, y_test_cv = y[train_index], y[test_index]"
   ]
  },
  {
   "cell_type": "code",
   "execution_count": 234,
   "metadata": {},
   "outputs": [],
   "source": [
    "tree_size=np.linspace(1,10,10)\n",
    "mse_test_=[]\n",
    "mse_train_=[]\n",
    "mse_cv_=[]\n",
    "for i in range(len(tree_size)):\n",
    "    clf = tree.DecisionTreeClassifier(max_depth=tree_size[i])\n",
    "    clf=clf.fit(x_train,y_train)\n",
    "    predict_test=clf.predict(x_test)\n",
    "    predict_train=clf.predict(x_train)\n",
    "    predict_train_cv=clf.predict(x_train_cv)\n",
    "    mse_test = mean_squared_error(y_test, predict_test)\n",
    "    mse_test_.append(mse_test)\n",
    "    mse_train = mean_squared_error(y_train, predict_train)\n",
    "    mse_train_.append(mse_train)\n",
    "    mse_cv = mean_squared_error(y_train_cv, predict_train_cv)\n",
    "    mse_cv_.append(mse_cv)"
   ]
  },
  {
   "cell_type": "code",
   "execution_count": 235,
   "metadata": {},
   "outputs": [
    {
     "data": {
      "text/plain": [
       "<matplotlib.legend.Legend at 0x248d189cfd0>"
      ]
     },
     "execution_count": 235,
     "metadata": {},
     "output_type": "execute_result"
    },
    {
     "data": {
      "image/png": "[encoded data removed]",
      "text/plain": [
       "<Figure size 432x288 with 1 Axes>"
      ]
     },
     "metadata": {},
     "output_type": "display_data"
    }
   ],
   "source": [
    "plt.scatter(tree_size,mse_train_,label='Training',color='black')\n",
    "plt.scatter(tree_size,mse_test_,label='Test',color='green')\n",
    "plt.scatter(tree_size,mse_cv_,label='Cross Validation',color='orange')\n",
    "plt.plot(tree_size,mse_cv_,color='orange')\n",
    "plt.plot(tree_size,mse_train_,color='black')\n",
    "plt.plot(tree_size,mse_test_,color='green')\n",
    "plt.legend()"
   ]
  },
  {
   "cell_type": "markdown",
   "metadata": {},
   "source": [
    "## Segunda Parte"
   ]
  },
  {
   "cell_type": "markdown",
   "metadata": {},
   "source": [
    "## c."
   ]
  },
  {
   "cell_type": "code",
   "execution_count": 249,
   "metadata": {},
   "outputs": [],
   "source": [
    "data=pd.read_csv('OJ.csv')\n",
    "data= data.dropna()"
   ]
  },
  {
   "cell_type": "code",
   "execution_count": 250,
   "metadata": {},
   "outputs": [
    {
     "data": {
      "text/html": [
       "<div>\n",
       "<style scoped>\n",
       "    .dataframe tbody tr th:only-of-type {\n",
       "        vertical-align: middle;\n",
       "    }\n",
       "\n",
       "    .dataframe tbody tr th {\n",
       "        vertical-align: top;\n",
       "    }\n",
       "\n",
       "    .dataframe thead th {\n",
       "        text-align: right;\n",
       "    }\n",
       "</style>\n",
       "<table border=\"1\" class=\"dataframe\">\n",
       "  <thead>\n",
       "    <tr style=\"text-align: right;\">\n",
       "      <th></th>\n",
       "      <th>Unnamed: 0</th>\n",
       "      <th>Purchase</th>\n",
       "      <th>WeekofPurchase</th>\n",
       "      <th>StoreID</th>\n",
       "      <th>PriceCH</th>\n",
       "      <th>PriceMM</th>\n",
       "      <th>DiscCH</th>\n",
       "      <th>DiscMM</th>\n",
       "      <th>SpecialCH</th>\n",
       "      <th>SpecialMM</th>\n",
       "      <th>LoyalCH</th>\n",
       "      <th>SalePriceMM</th>\n",
       "      <th>SalePriceCH</th>\n",
       "      <th>PriceDiff</th>\n",
       "      <th>Store7</th>\n",
       "      <th>PctDiscMM</th>\n",
       "      <th>PctDiscCH</th>\n",
       "      <th>ListPriceDiff</th>\n",
       "      <th>STORE</th>\n",
       "    </tr>\n",
       "  </thead>\n",
       "  <tbody>\n",
       "    <tr>\n",
       "      <th>0</th>\n",
       "      <td>1</td>\n",
       "      <td>CH</td>\n",
       "      <td>237</td>\n",
       "      <td>1</td>\n",
       "      <td>1.75</td>\n",
       "      <td>1.99</td>\n",
       "      <td>0.00</td>\n",
       "      <td>0.0</td>\n",
       "      <td>0</td>\n",
       "      <td>0</td>\n",
       "      <td>0.500000</td>\n",
       "      <td>1.99</td>\n",
       "      <td>1.75</td>\n",
       "      <td>0.24</td>\n",
       "      <td>No</td>\n",
       "      <td>0.000000</td>\n",
       "      <td>0.000000</td>\n",
       "      <td>0.24</td>\n",
       "      <td>1</td>\n",
       "    </tr>\n",
       "    <tr>\n",
       "      <th>1</th>\n",
       "      <td>2</td>\n",
       "      <td>CH</td>\n",
       "      <td>239</td>\n",
       "      <td>1</td>\n",
       "      <td>1.75</td>\n",
       "      <td>1.99</td>\n",
       "      <td>0.00</td>\n",
       "      <td>0.3</td>\n",
       "      <td>0</td>\n",
       "      <td>1</td>\n",
       "      <td>0.600000</td>\n",
       "      <td>1.69</td>\n",
       "      <td>1.75</td>\n",
       "      <td>-0.06</td>\n",
       "      <td>No</td>\n",
       "      <td>0.150754</td>\n",
       "      <td>0.000000</td>\n",
       "      <td>0.24</td>\n",
       "      <td>1</td>\n",
       "    </tr>\n",
       "    <tr>\n",
       "      <th>2</th>\n",
       "      <td>3</td>\n",
       "      <td>CH</td>\n",
       "      <td>245</td>\n",
       "      <td>1</td>\n",
       "      <td>1.86</td>\n",
       "      <td>2.09</td>\n",
       "      <td>0.17</td>\n",
       "      <td>0.0</td>\n",
       "      <td>0</td>\n",
       "      <td>0</td>\n",
       "      <td>0.680000</td>\n",
       "      <td>2.09</td>\n",
       "      <td>1.69</td>\n",
       "      <td>0.40</td>\n",
       "      <td>No</td>\n",
       "      <td>0.000000</td>\n",
       "      <td>0.091398</td>\n",
       "      <td>0.23</td>\n",
       "      <td>1</td>\n",
       "    </tr>\n",
       "    <tr>\n",
       "      <th>3</th>\n",
       "      <td>4</td>\n",
       "      <td>MM</td>\n",
       "      <td>227</td>\n",
       "      <td>1</td>\n",
       "      <td>1.69</td>\n",
       "      <td>1.69</td>\n",
       "      <td>0.00</td>\n",
       "      <td>0.0</td>\n",
       "      <td>0</td>\n",
       "      <td>0</td>\n",
       "      <td>0.400000</td>\n",
       "      <td>1.69</td>\n",
       "      <td>1.69</td>\n",
       "      <td>0.00</td>\n",
       "      <td>No</td>\n",
       "      <td>0.000000</td>\n",
       "      <td>0.000000</td>\n",
       "      <td>0.00</td>\n",
       "      <td>1</td>\n",
       "    </tr>\n",
       "    <tr>\n",
       "      <th>4</th>\n",
       "      <td>5</td>\n",
       "      <td>CH</td>\n",
       "      <td>228</td>\n",
       "      <td>7</td>\n",
       "      <td>1.69</td>\n",
       "      <td>1.69</td>\n",
       "      <td>0.00</td>\n",
       "      <td>0.0</td>\n",
       "      <td>0</td>\n",
       "      <td>0</td>\n",
       "      <td>0.956535</td>\n",
       "      <td>1.69</td>\n",
       "      <td>1.69</td>\n",
       "      <td>0.00</td>\n",
       "      <td>Yes</td>\n",
       "      <td>0.000000</td>\n",
       "      <td>0.000000</td>\n",
       "      <td>0.00</td>\n",
       "      <td>0</td>\n",
       "    </tr>\n",
       "  </tbody>\n",
       "</table>\n",
       "</div>"
      ],
      "text/plain": [
       "   Unnamed: 0 Purchase  WeekofPurchase  StoreID  PriceCH  PriceMM  DiscCH  \\\n",
       "0           1       CH             237        1     1.75     1.99    0.00   \n",
       "1           2       CH             239        1     1.75     1.99    0.00   \n",
       "2           3       CH             245        1     1.86     2.09    0.17   \n",
       "3           4       MM             227        1     1.69     1.69    0.00   \n",
       "4           5       CH             228        7     1.69     1.69    0.00   \n",
       "\n",
       "   DiscMM  SpecialCH  SpecialMM   LoyalCH  SalePriceMM  SalePriceCH  \\\n",
       "0     0.0          0          0  0.500000         1.99         1.75   \n",
       "1     0.3          0          1  0.600000         1.69         1.75   \n",
       "2     0.0          0          0  0.680000         2.09         1.69   \n",
       "3     0.0          0          0  0.400000         1.69         1.69   \n",
       "4     0.0          0          0  0.956535         1.69         1.69   \n",
       "\n",
       "   PriceDiff Store7  PctDiscMM  PctDiscCH  ListPriceDiff  STORE  \n",
       "0       0.24     No   0.000000   0.000000           0.24      1  \n",
       "1      -0.06     No   0.150754   0.000000           0.24      1  \n",
       "2       0.40     No   0.000000   0.091398           0.23      1  \n",
       "3       0.00     No   0.000000   0.000000           0.00      1  \n",
       "4       0.00    Yes   0.000000   0.000000           0.00      0  "
      ]
     },
     "execution_count": 250,
     "metadata": {},
     "output_type": "execute_result"
    }
   ],
   "source": [
    "data.head()"
   ]
  },
  {
   "cell_type": "code",
   "execution_count": 251,
   "metadata": {},
   "outputs": [],
   "source": [
    "WeekofPurchase=data['WeekofPurchase']\n",
    "StoreID=data['StoreID']\n",
    "PriceCH=data['PriceCH'] \n",
    "PriceMM=data['PriceMM']\n",
    "DiscCH=data['DiscCH']\n",
    "DiscMM=data['DiscMM']\n",
    "SpecialCH=data['SpecialCH']\n",
    "SpecialMM=data['SpecialMM'] \n",
    "LoyalCH=data['LoyalCH']\n",
    "SalePriceMM=data['SalePriceMM']\n",
    "SalePriceCH=data['SalePriceCH']\n",
    "PriceDiff=data['PriceDiff']\n",
    "PctDiscMM=data['PctDiscMM']\n",
    "PctDiscCH=data['PctDiscCH']\n",
    "ListPriceDiff=data['ListPriceDiff']\n",
    "STORE=data['STORE']\n",
    "Purchase=list(data['Purchase'])\n",
    "purchase=[]\n",
    "for i in range(len(Purchase)):\n",
    "    if Purchase[i]=='CH':\n",
    "        purchase.append(1)\n",
    "    if Purchase[i]=='MM':\n",
    "        purchase.append(0)"
   ]
  },
  {
   "cell_type": "code",
   "execution_count": 254,
   "metadata": {},
   "outputs": [
    {
     "data": {
      "text/plain": [
       "1070"
      ]
     },
     "execution_count": 254,
     "metadata": {},
     "output_type": "execute_result"
    }
   ],
   "source": [
    "len(WeekofPurchase)"
   ]
  },
  {
   "cell_type": "code",
   "execution_count": 257,
   "metadata": {},
   "outputs": [],
   "source": [
    "x=(np.array([WeekofPurchase,StoreID,PriceCH,PriceMM,DiscCH,DiscMM,SpecialCH,SpecialMM,LoyalCH,SalePriceMM,SalePriceCH,PriceDiff,PctDiscMM,PctDiscCH,ListPriceDiff,STORE])).T\n",
    "y=np.array(purchase)"
   ]
  },
  {
   "cell_type": "code",
   "execution_count": 258,
   "metadata": {},
   "outputs": [
    {
     "data": {
      "text/plain": [
       "((1070, 16), (1070,))"
      ]
     },
     "execution_count": 258,
     "metadata": {},
     "output_type": "execute_result"
    }
   ],
   "source": [
    "np.shape(x),np.shape(y)"
   ]
  },
  {
   "cell_type": "code",
   "execution_count": 260,
   "metadata": {},
   "outputs": [],
   "source": [
    "x_trai, x_test, y_trai, y_test = sklearn.model_selection.train_test_split(x, y, test_size=0.25, random_state=1)"
   ]
  },
  {
   "cell_type": "code",
   "execution_count": 261,
   "metadata": {},
   "outputs": [],
   "source": [
    "kf = KFold(n_splits=6)\n",
    "kf.get_n_splits(x_train)\n",
    "KFold(n_splits=6, random_state=None, shuffle=False)\n",
    "for train_index, val_index in kf.split(x_train):\n",
    "    x_train, x_val = x_trai[train_index], x[val_index]\n",
    "    y_train, y_val = y_trai[train_index], y[val_index]"
   ]
  },
  {
   "cell_type": "code",
   "execution_count": 262,
   "metadata": {},
   "outputs": [],
   "source": [
    "tree_size=np.linspace(1,15,15)\n",
    "mse_test_=[]\n",
    "mse_train_=[]\n",
    "mse_val_=[]\n",
    "for i in range(len(tree_size)):\n",
    "    clf = tree.DecisionTreeClassifier(max_depth=tree_size[i])\n",
    "    clf=clf.fit(x_train,y_train)\n",
    "    predict_test=clf.predict(x_test)\n",
    "    predict_train=clf.predict(x_train)\n",
    "    predict_val=clf.predict(x_val)\n",
    "    mse_test = mean_squared_error(y_test, predict_test)\n",
    "    mse_test_.append(mse_test)\n",
    "    mse_train = mean_squared_error(y_train, predict_train)\n",
    "    mse_train_.append(mse_train)\n",
    "    mse_val = mean_squared_error(y_val, predict_val)\n",
    "    mse_val_.append(mse_val)"
   ]
  },
  {
   "cell_type": "code",
   "execution_count": 263,
   "metadata": {},
   "outputs": [
    {
     "data": {
      "text/plain": [
       "<matplotlib.legend.Legend at 0x248d19296a0>"
      ]
     },
     "execution_count": 263,
     "metadata": {},
     "output_type": "execute_result"
    },
    {
     "data": {
      "image/png": "[encoded data removed]",
      "text/plain": [
       "<Figure size 432x288 with 1 Axes>"
      ]
     },
     "metadata": {},
     "output_type": "display_data"
    }
   ],
   "source": [
    "plt.scatter(tree_size,mse_trai_,label='Training',color='black')\n",
    "plt.scatter(tree_size,mse_test_,label='Test',color='green')\n",
    "plt.scatter(tree_size,mse_val_,label='Validation',color='orange')\n",
    "plt.plot(tree_size,mse_val_,color='orange')\n",
    "plt.plot(tree_size,mse_trai_,color='black')\n",
    "plt.plot(tree_size,mse_test_,color='green')\n",
    "plt.legend()"
   ]
  },
  {
   "cell_type": "code",
   "execution_count": 265,
   "metadata": {},
   "outputs": [],
   "source": [
    "def summary_fit(X, Y, f_method, plot=True):\n",
    "    # Split in train and test\n",
    "    X_train, X_test, Y_train, Y_test = sklearn.model_selection.train_test_split(X,Y, test_size=0.4)\n",
    "\n",
    "    #  Fit with train\n",
    "    f_method.fit(X_train, Y_train)\n",
    "\n",
    "    # Predict with test\n",
    "    predict = f_method.predict(X_test)\n",
    "\n",
    "    # This is the probability for the '+' class\n",
    "    proba_yes = f_method.predict_proba(X_test)[:,1]\n",
    "\n",
    "    # loop over n_p different values for the threshold probabiity\n",
    "    n_p = 100\n",
    "    error_rate = np.zeros(n_p)\n",
    "    precision = np.zeros(n_p)\n",
    "    recall = np.zeros(n_p)\n",
    "    tp_rate = np.zeros(n_p)\n",
    "    fp_rate = np.zeros(n_p)\n",
    "    threshold = np.linspace(0,0.99, n_p)\n",
    "\n",
    "    for i in range(n_p):\n",
    "        ii = proba_yes>threshold[i]\n",
    "        predict[ii] = 'Yes'\n",
    "        predict[~ii] = 'No'\n",
    "        true_positive = (Y_test == 'Yes') & (predict == 'Yes') \n",
    "        false_positive = (Y_test == 'No') & (predict == 'Yes')\n",
    "        false_negative = (Y_test == 'Yes') & (predict == 'No')\n",
    "        true_negative = (Y_test == 'No') & (predict == 'No')\n",
    "        n_tp = np.count_nonzero(true_positive)\n",
    "        n_fp= np.count_nonzero(false_positive)\n",
    "        n_fn = np.count_nonzero(false_negative)\n",
    "        n_tn = np.count_nonzero(true_negative)\n",
    "        if((n_tp+n_fp)>0): precision[i] = n_tp/(n_tp + n_fp)\n",
    "        if((n_tp+n_fn)>0): recall[i] = n_tp/(n_tp + n_fn); tp_rate[i] = recall[i]  \n",
    "        if((n_fp+n_tn)>0): fp_rate[i] = n_fp/(n_fp+n_tn)\n",
    "\n",
    "    # compute the area under each curve\n",
    "    ii = np.argsort(recall)\n",
    "    pr_area = scipy.integrate.trapz(precision[ii], recall[ii])\n",
    "    \n",
    "    ii = np.argsort(fp_rate)\n",
    "    roc_area = scipy.integrate.trapz(tp_rate[ii], fp_rate[ii])\n",
    "            \n",
    "    # compute F1\n",
    "    F1 = np.max(2.0*precision*recall/(precision+recall+1E-12))\n",
    "    if plot:\n",
    "        l = 'Predictors:'\n",
    "        for k in X.keys(): \n",
    "            l=l+' '+k\n",
    "        \n",
    "        plt.figure(figsize=(10,5))\n",
    "        plt.subplot(1,2,1)\n",
    "        plt.plot(recall, precision)\n",
    "        plt.xlabel('RECALL')\n",
    "        plt.ylabel('PRECISION')\n",
    "        plt.title('PRECISION-RECALL, AREA={:.2f}'.format(pr_area))\n",
    "        plt.xlim([0,1])\n",
    "        plt.ylim([0,1])\n",
    "\n",
    "        plt.subplot(1,2,2)\n",
    "        plt.plot(fp_rate, tp_rate, label=l)\n",
    "        plt.xlabel('FALSE POSITIVE RATE')\n",
    "        plt.ylabel('TRUE POSITIVE RATE')\n",
    "        plt.title('ROC, AREA={:.2f}'.format(roc_area))\n",
    "        plt.xlim([0,1])\n",
    "        plt.ylim([0,1])\n",
    "        plt.legend()\n",
    "    return {'pr_area':pr_area, 'roc_area':roc_area, 'F1':F1}"
   ]
  },
  {
   "cell_type": "code",
   "execution_count": null,
   "metadata": {},
   "outputs": [],
   "source": []
  }
 ],
 "metadata": {
  "kernelspec": {
   "display_name": "Python 3",
   "language": "python",
   "name": "python3"
  },
  "language_info": {
   "codemirror_mode": {
    "name": "ipython",
    "version": 3
   },
   "file_extension": ".py",
   "mimetype": "text/x-python",
   "name": "python",
   "nbconvert_exporter": "python",
   "pygments_lexer": "ipython3",
   "version": "3.6.5"
  }
 },
 "nbformat": 4,
 "nbformat_minor": 2
}
